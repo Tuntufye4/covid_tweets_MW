{
 "cells": [
  {
   "cell_type": "code",
   "execution_count": 33,
   "metadata": {},
   "outputs": [],
   "source": [
    "import pandas as pd\n",
    "import snscrape.modules.twitter as sntwitter\n",
    "import itertools\n",
    "import sys\n",
    "from textblob import TextBlob\n",
    "import matplotlib.pyplot as plt"
   ]
  },
  {
   "cell_type": "markdown",
   "metadata": {},
   "source": [
    "# BLANTYRE TWEETS"
   ]
  },
  {
   "cell_type": "code",
   "execution_count": 28,
   "metadata": {},
   "outputs": [
    {
     "name": "stdout",
     "output_type": "stream",
     "text": [
      "0     What will be the actual death count? #Covid_19...\n",
      "1     @William28006414 I had covid last year n to be...\n",
      "2     Almost 5 month have gone since the Malawi Poli...\n",
      "3     @Shamen360 @nevets2698 Do not trust the latera...\n",
      "4     @nevets2698 Myself and members of my family hi...\n",
      "5     @KEA182 Thanks Kirsty❤ ...i take Tumeric capsu...\n",
      "6     Malawi goes four days without Covid-19 deaths\\...\n",
      "7     @SpursOfficial @OfficialFPL Who started the ru...\n",
      "8     Lmfao no ways Twitter started a rumor that Son...\n",
      "9     Being a doctor is great and challenging. No mo...\n",
      "10    MHRC has since 2020 when Covid 19 cases were r...\n",
      "11    Kutha ndiye kulipo\\n\\nCovid or not komabe zati...\n",
      "12    Pa Malawi pali zinthu zokhazikisa bata zingapo...\n",
      "13    Umo maluzi aluchitira ,nde udzidwalanso, zimad...\n",
      "14    Tiyeni tikabayise Katemela wa Covid-19!\\nMusao...\n",
      "15    Now officially vacinated with AstraZeneca Covi...\n",
      "16    Yesterday I wanted to write a whole thread kom...\n",
      "17    We are donating our first batch of Covid Equip...\n",
      "18    #Day19of25Pushupchallenge fighting Covid-19 @ ...\n",
      "19    Day 18 of 25 Push Ups for 25 days of Fighting ...\n",
      "20    Day 12 of fighting against Covid-19 @ Blantyre...\n",
      "21    Day 11 of 25 day pUsh Up of fighting against C...\n",
      "22    Remember to Mask Up! Covid-19 is real😷 https:/...\n",
      "23    I can imagine kuti kukhala head of an institut...\n",
      "24    Day 6 of 25 day Push up, Fighting against Covi...\n",
      "25    Together we can KNQR Covid-19 #WearAMask #Stay...\n",
      "26    Day 4 of 25 Push Ups of staying for against Co...\n",
      "27    Ready to test for Covid 😊 https://t.co/yphub3j8sC\n",
      "28    Mwaiwathu Hospital now has a Covid - 19 Rapid ...\n",
      "29    Got tested last night at Queens for COVID-19 a...\n",
      "30    Covid vs Abortion vs DPP\\nThe discussions very...\n",
      "31    We are at HAEST Lodge orienting Health Centre ...\n",
      "32    #COVID-19 AWARENESS @ Blantyre, Malawi https:/...\n",
      "33    The District Youth Officer responding to issue...\n",
      "34    District DodMa Desk Officer responding to conc...\n",
      "35    Moses Kathumba- Youth Champion and Executive M...\n",
      "36    Let's stay safe.. COVID is real @ Times Group ...\n",
      "37    Respectful maternity care within the Covid-19 ...\n",
      "38    I need this, paja covid akudana ndizogwira mas...\n",
      "39    We continue YCBDAs and Youth Champions refresh...\n",
      "40    Today I took time off my COVID-19 work to vote...\n",
      "41    Just thinking aloud;\\n\\nwhat if opikisana atap...\n",
      "42    Komatu penapake Atupere ndi Covid 19 wa ku Nor...\n",
      "43    This morning the Rotary Clubs made a joint don...\n",
      "44    The https://t.co/S1viU0YV8m we plan for covid-...\n",
      "45    May 2020 wakoma ndi ma holiday. This Friday ik...\n",
      "46    27th May 2020 Emergency Medicine Day..... ever...\n",
      "47    Sharing ideas with our fellow Linguni Hope for...\n",
      "48    I spent international nurses day 12th May 2020...\n",
      "49    This kind of appetite, ngati si njoka za mmimb...\n",
      "Name: content, dtype: object\n"
     ]
    }
   ],
   "source": [
    "df = pd.DataFrame(itertools.islice(sntwitter.TwitterSearchScraper(\n",
    "    'Covid near:\"Blantyre\" within:100km').get_items(), 50))[['date', 'content']]\n",
    "content = df['content']\n",
    "\n",
    "    \n",
    "print(content)"
   ]
  },
  {
   "cell_type": "markdown",
   "metadata": {},
   "source": [
    "# SENTIMENT ANALYSIS (POLARITY)-BT"
   ]
  },
  {
   "cell_type": "code",
   "execution_count": 32,
   "metadata": {},
   "outputs": [
    {
     "name": "stdout",
     "output_type": "stream",
     "text": [
      "positive tweets:  22\n",
      "negative tweets:  1\n",
      "neutral tweets:  27\n"
     ]
    }
   ],
   "source": [
    "positive = 0\n",
    "\n",
    "negative = 0\n",
    "\n",
    "neutral = 0\n",
    "\n",
    "\n",
    "polarity = 0\n",
    "\n",
    "\n",
    "non_bmp_map = dict.fromkeys(range(0x10000, sys.maxunicode + 1), 0xfffd)\n",
    "\n",
    "for tweet in content:\n",
    "\n",
    "    #print('tweet: ',(tweet).translate(non_bmp_map))\n",
    "\n",
    "    analysis = TextBlob(tweet)\n",
    "\n",
    "    polarity += analysis.sentiment.polarity  # overall result\n",
    "\n",
    "    \n",
    "\n",
    "  \n",
    "\n",
    "\n",
    "\n",
    "    if (analysis.sentiment.polarity == 0):\n",
    "\n",
    "        neutral = neutral + 1 # no of neu tweets\n",
    "\n",
    "    elif (analysis.sentiment.polarity < 0):\n",
    "\n",
    "        negative = negative + 1 # no of neg tweets\n",
    "\n",
    "    elif (analysis.sentiment.polarity > 0):\n",
    "\n",
    "        positive = positive + 1 # no of pos tweets\n",
    "\n",
    "print('positive tweets: ',positive)\n",
    "\n",
    "print('negative tweets: ',negative)\n",
    "\n",
    "print('neutral tweets: ',neutral)\n",
    "\n"
   ]
  },
  {
   "cell_type": "code",
   "execution_count": 34,
   "metadata": {},
   "outputs": [
    {
     "data": {
      "image/png": "[encoded data removed]",
      "text/plain": [
       "<Figure size 432x288 with 1 Axes>"
      ]
     },
     "metadata": {},
     "output_type": "display_data"
    }
   ],
   "source": [
    "import matplotlib.pyplot as plt\n",
    "\n",
    "results = [ positive, negative, neutral] # values\n",
    "\n",
    "reactions = ['positive', 'negative', 'neutral'] # label names\n",
    "\n",
    "\n",
    "\n",
    "plt.pie(results, labels = reactions, autopct = '%.2f' , radius = 1.5, shadow = True) \n",
    "\n",
    "plt.show()"
   ]
  },
  {
   "cell_type": "markdown",
   "metadata": {},
   "source": [
    "# LILONGWE TWEETS"
   ]
  },
  {
   "cell_type": "code",
   "execution_count": 35,
   "metadata": {},
   "outputs": [
    {
     "name": "stdout",
     "output_type": "stream",
     "text": [
      "0     @Malawi24 Someone please remind...weren't J&am...\n",
      "1     @ZBCNewsonline @edmnangagwa Thousands of suppo...\n",
      "2       These niggas like COVID they ain't got no taste\n",
      "3     Very happy that UK medical teams are in 🇲🇼 to ...\n",
      "4     We are delighted to be invite MaSP members to ...\n",
      "5     The need to keep check on HIV/AIDS is one key ...\n",
      "6     @Walu_Mwasi Komaso we are excluding all covid ...\n",
      "7     Damn for real? Just disappeared? I knew Covid ...\n",
      "8     @onjezani Mwinatu tingopanga muja tinapangira ...\n",
      "9     @USEmbassyLLW One of the few diplomats who did...\n",
      "10    Rest in peace Mr #ferguson Mwanza added that S...\n",
      "11    One of my employees been tested covid +. Went ...\n",
      "12    Season of covid-19. 😷 @ Capital City, Lilongwe...\n",
      "13    Commemorating the International Women's Day. C...\n",
      "14    Exploits graduation taking place right here at...\n",
      "15    We have these and more in different designs an...\n",
      "16    My community my responsibility volunteers &amp...\n",
      "17    Thank you Dr. Charles Mwansambo, the principal...\n",
      "18    Keeping our premises safe from Covid-19 https:...\n",
      "19    Good morning! I am currently participating in ...\n",
      "20    Running a grand marketer project the other day...\n",
      "21    Fresh Chambo at the 18 Mart Lilongwe Area 18A ...\n",
      "22    Last night in Chitedze there was an all night ...\n",
      "23    Working hand in hand with leaders from differe...\n",
      "24    Njobvu, Mbidzi and Mvuu Banquet halls give ele...\n",
      "25    Video highlights for the Vice president of the...\n",
      "26    Part of Covid-19 holiday\\n.. @ Area 49 Proper ...\n",
      "27    Virtual meeting. Life must continue covid or n...\n",
      "28    MyAngelMyPride (MAMP), a local charity organis...\n",
      "29    Beautiful day today. We went to KCH to show so...\n",
      "30    #diaphramaticbreathing\\n#morningmotivation\\n#c...\n",
      "31    Kindly donate.  Together helping frontline Cov...\n",
      "32    Covid-19 Took Away these\\nMoments We used to h...\n",
      "33    Koma #Malawi, are we really serious? That we w...\n",
      "34    #covid_19 is real but we still have to look gr...\n",
      "35    COWLHA is responding to COVID-19 by distributi...\n",
      "36    Covid-19 is real\\nLets sanitize\\nBoth outside ...\n",
      "37    Every time you are sneezing UNRESPONSIBLY, rem...\n",
      "38    Let's observe precautions #splendor Art Graphi...\n",
      "39    In the face of #COVID-19, Religious Leaders ar...\n",
      "40    As of yesterday at 7.35 Pm, Only Malawi and Le...\n",
      "41    Amid the confusion with the ongoing #covid_19 ...\n",
      "42    Amid the confusion with the ongoing #covid_19 ...\n",
      "43    O Malawi tem um dos piores IDHs do planeta.\\nA...\n",
      "44    Ignoring all Covid-19 advice @ Club Discorium ...\n",
      "45    Kafula on Covid-19 meds... Malawi never ceases...\n",
      "Name: content, dtype: object\n"
     ]
    }
   ],
   "source": [
    "df = pd.DataFrame(itertools.islice(sntwitter.TwitterSearchScraper(\n",
    "    'Covid near:\"Lilongwe\" within:100km').get_items(), 50))[['date', 'content']]\n",
    "\n",
    "content1 = df['content']\n",
    "print(content1)"
   ]
  },
  {
   "cell_type": "markdown",
   "metadata": {},
   "source": [
    "# SENTIMENT ANALYSIS (POLARITY)-LL"
   ]
  },
  {
   "cell_type": "code",
   "execution_count": 36,
   "metadata": {},
   "outputs": [
    {
     "name": "stdout",
     "output_type": "stream",
     "text": [
      "positive tweets:  24\n",
      "negative tweets:  4\n",
      "neutral tweets:  18\n"
     ]
    }
   ],
   "source": [
    "positive = 0\n",
    "\n",
    "negative = 0\n",
    "\n",
    "neutral = 0\n",
    "\n",
    "\n",
    "polarity = 0\n",
    "\n",
    "\n",
    "non_bmp_map = dict.fromkeys(range(0x10000, sys.maxunicode + 1), 0xfffd)\n",
    "\n",
    "for tweet in content1:\n",
    "\n",
    "    #print('tweet: ',(tweet.text).translate(non_bmp_map))\n",
    "\n",
    "    analysis = TextBlob(tweet)\n",
    "\n",
    "    polarity += analysis.sentiment.polarity  # overall result\n",
    "\n",
    "    #print('reaction: ',analysis.sentiment.polarity)\n",
    "\n",
    "  \n",
    "\n",
    "\n",
    "\n",
    "    if (analysis.sentiment.polarity == 0):\n",
    "\n",
    "        neutral = neutral + 1 # no of neu tweets\n",
    "\n",
    "    elif (analysis.sentiment.polarity < 0):\n",
    "\n",
    "        negative = negative + 1 # no of neg tweets\n",
    "\n",
    "    elif (analysis.sentiment.polarity > 0):\n",
    "\n",
    "        positive = positive + 1 # no of pos tweets\n",
    "\n",
    "print('positive tweets: ',positive)\n",
    "\n",
    "print('negative tweets: ',negative)\n",
    "\n",
    "print('neutral tweets: ',neutral)\n",
    "\n"
   ]
  },
  {
   "cell_type": "code",
   "execution_count": 37,
   "metadata": {},
   "outputs": [
    {
     "data": {
      "image/png": "[encoded data removed]",
      "text/plain": [
       "<Figure size 432x288 with 1 Axes>"
      ]
     },
     "metadata": {},
     "output_type": "display_data"
    }
   ],
   "source": [
    "import matplotlib.pyplot as plt\n",
    "\n",
    "results = [ positive, negative, neutral] # values\n",
    "\n",
    "reactions = ['positive', 'negative', 'neutral'] # label names\n",
    "\n",
    "\n",
    "\n",
    "plt.pie(results, labels = reactions, autopct = '%.2f' , radius = 1.5, shadow = True) \n",
    "\n",
    "plt.show()"
   ]
  },
  {
   "cell_type": "markdown",
   "metadata": {},
   "source": [
    "# ZOMBA TWEETS"
   ]
  },
  {
   "cell_type": "code",
   "execution_count": 40,
   "metadata": {},
   "outputs": [
    {
     "name": "stdout",
     "output_type": "stream",
     "text": [
      "0     @JMPSimor According to J Rees-Mog, COVID can d...\n",
      "1     @RightWingWatch I can't believe that there are...\n",
      "2     What will be the actual death count? #Covid_19...\n",
      "3     #YFMNews\\nA recent 2021 TB report by the World...\n",
      "4     #NewsUpdate\\nMalawi’s work on community Tuberc...\n",
      "5     Oakland County has a mask mandate.  \\n\\nNumber...\n",
      "6     @William28006414 I had covid last year n to be...\n",
      "7     Almost 5 month have gone since the Malawi Poli...\n",
      "8     @Shamen360 @nevets2698 Do not trust the latera...\n",
      "9     @nevets2698 Myself and members of my family hi...\n",
      "10    @KEA182 Thanks Kirsty❤ ...i take Tumeric capsu...\n",
      "11    @hughhewitt Well, then you better not support ...\n",
      "12    Malawi goes four days without Covid-19 deaths\\...\n",
      "13    @SpursOfficial @OfficialFPL Who started the ru...\n",
      "14    Lmfao no ways Twitter started a rumor that Son...\n",
      "15    Being a doctor is great and challenging. No mo...\n",
      "16       Previne-se do covid-19 https://t.co/XtoqD1c2hJ\n",
      "17    MHRC has since 2020 when Covid 19 cases were r...\n",
      "18    Kutha ndiye kulipo\\n\\nCovid or not komabe zati...\n",
      "19    Pa Malawi pali zinthu zokhazikisa bata zingapo...\n",
      "20    Ka Sitting arrangement ka Covid aka wina amuwi...\n",
      "21    So a Lemon is now selling at k200 each.\\n\\nKun...\n",
      "22    The life and times of COVID-19 #2020\\n\\nStayin...\n",
      "23    #PressFreedom #WPFD2020 #COVID__19 #Journalism...\n",
      "24    Yet to start \"Work from Home\" but we are safe ...\n",
      "Name: content, dtype: object\n"
     ]
    }
   ],
   "source": [
    "df = pd.DataFrame(itertools.islice(sntwitter.TwitterSearchScraper(\n",
    "    'Covid near:\"Zomba\" within:100km').get_items(), 50))[['date', 'content']]\n",
    "\n",
    "content2 = df['content']\n",
    "print(content2)\n"
   ]
  },
  {
   "cell_type": "markdown",
   "metadata": {},
   "source": [
    "# SENTIMENT ANALYSIS (POLARITY)-ZA"
   ]
  },
  {
   "cell_type": "code",
   "execution_count": 41,
   "metadata": {},
   "outputs": [
    {
     "name": "stdout",
     "output_type": "stream",
     "text": [
      "positive tweets:  11\n",
      "negative tweets:  3\n",
      "neutral tweets:  11\n"
     ]
    }
   ],
   "source": [
    "positive = 0\n",
    "\n",
    "negative = 0\n",
    "\n",
    "neutral = 0\n",
    "\n",
    "\n",
    "polarity = 0\n",
    "\n",
    "\n",
    "non_bmp_map = dict.fromkeys(range(0x10000, sys.maxunicode + 1), 0xfffd)\n",
    "\n",
    "for tweet in content2:\n",
    "\n",
    "    #print('tweet: ',(tweet.text).translate(non_bmp_map))\n",
    "\n",
    "    analysis = TextBlob(tweet)\n",
    "\n",
    "    polarity += analysis.sentiment.polarity  # overall result\n",
    "\n",
    "    #print('reaction: ',analysis.sentiment.polarity)\n",
    "\n",
    "  \n",
    "\n",
    "\n",
    "\n",
    "    if (analysis.sentiment.polarity == 0):\n",
    "\n",
    "        neutral = neutral + 1 # no of neu tweets\n",
    "\n",
    "    elif (analysis.sentiment.polarity < 0):\n",
    "\n",
    "        negative = negative + 1 # no of neg tweets\n",
    "\n",
    "    elif (analysis.sentiment.polarity > 0):\n",
    "\n",
    "        positive = positive + 1 # no of pos tweets\n",
    "\n",
    "print('positive tweets: ',positive)\n",
    "\n",
    "print('negative tweets: ',negative)\n",
    "\n",
    "print('neutral tweets: ',neutral)\n",
    "\n"
   ]
  },
  {
   "cell_type": "code",
   "execution_count": 42,
   "metadata": {},
   "outputs": [
    {
     "data": {
      "image/png": "[encoded data removed]",
      "text/plain": [
       "<Figure size 432x288 with 1 Axes>"
      ]
     },
     "metadata": {},
     "output_type": "display_data"
    }
   ],
   "source": [
    "import matplotlib.pyplot as plt\n",
    "\n",
    "results = [ positive, negative, neutral] # values\n",
    "\n",
    "reactions = ['positive', 'negative', 'neutral'] # label names\n",
    "\n",
    "\n",
    "\n",
    "plt.pie(results, labels = reactions, autopct = '%.2f' , radius = 1.5, shadow = True) \n",
    "\n",
    "plt.show()"
   ]
  },
  {
   "cell_type": "code",
   "execution_count": null,
   "metadata": {},
   "outputs": [],
   "source": []
  }
 ],
 "metadata": {
  "kernelspec": {
   "display_name": "Python 3",
   "language": "python",
   "name": "python3"
  },
  "language_info": {
   "codemirror_mode": {
    "name": "ipython",
    "version": 3
   },
   "file_extension": ".py",
   "mimetype": "text/x-python",
   "name": "python",
   "nbconvert_exporter": "python",
   "pygments_lexer": "ipython3",
   "version": "3.8.3"
  }
 },
 "nbformat": 4,
 "nbformat_minor": 4
}
